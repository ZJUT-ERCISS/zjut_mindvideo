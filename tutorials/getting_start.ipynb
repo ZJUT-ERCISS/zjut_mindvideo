{
 "cells": [
  {
   "attachments": {},
   "cell_type": "markdown",
   "metadata": {
    "collapsed": false,
    "pycharm": {
     "name": "#%% md\n"
    }
   },
   "source": [
    "# Getting Start\n",
    "## install requirements\n",
    "Requirements Installation Use the following commands to install dependencies:"
   ]
  },
  {
   "cell_type": "code",
   "execution_count": null,
   "metadata": {
    "collapsed": false,
    "pycharm": {
     "name": "#%%\n"
    }
   },
   "outputs": [],
   "source": [
    "!pip install -r requirements.txt"
   ]
  },
  {
   "attachments": {},
   "cell_type": "markdown",
   "id": "f1b88479",
   "metadata": {
    "pycharm": {
     "name": "#%% md\n"
    }
   },
   "source": [
    "## Install MindSpore\n",
    "installing MindSpore via the [official website](https://www.mindspore.cn/install)\n",
    "\n",
    "## Download pretrained model\n",
    "\n",
    "download the checkpoint for each model\n",
    "\n",
    "- [C3D](https://zjuteducn-my.sharepoint.com/:u:/g/personal/201906010313_zjut_edu_cn/EbVF6SuKthpGj046abA37jkBkfkhzLm36F8NJmH2Do3jhg?e=xh32kW) \n",
    "- [I3D](https://zjuteducn-my.sharepoint.com/:u:/g/personal/201906010313_zjut_edu_cn/EeqkpDHObpBNj5ibeawTY0gBWd84YvFrhmbdGeu8qm5SDw?e=E3j8vM)\n",
    "- [ARN](https://zjuteducn-my.sharepoint.com/:u:/g/personal/201906010313_zjut_edu_cn/EcgbnOOAT85ChwxHkhDWfCEBBEcwTTmi82wT4gSFSh4Xpw?e=OIlWZw)\n",
    "- [X3D_L](https://zjuteducn-my.sharepoint.com/:u:/g/personal/201906010313_zjut_edu_cn/EaVbGiHvrf5Nl6TooLlq340B4LMrLF8Cqm9PH0w9Mlqx9Q?e=a2XEoh)\n",
    "- [X3D_M](https://zjuteducn-my.sharepoint.com/:u:/g/personal/201906010313_zjut_edu_cn/EVqLWmg7v4JBkLJPY3vP-1kBeq7uI5sE2Tin7kM5PcxQMw?e=S1wCy0)\n",
    "- [X3D_S](https://zjuteducn-my.sharepoint.com/:u:/g/personal/201906010313_zjut_edu_cn/EUH1YqWCkLlLlEMA9A8MuwQBSPQ0yjyUJVUIlsuWbP3YeQ?e=WK955U)\n",
    "- [X3D_XS](https://zjuteducn-my.sharepoint.com/:u:/g/personal/201906010313_zjut_edu_cn/EYwLbhrIcCdIor3J_Dxj3foBMx2bFb7zcw9QRVBkamZE_A?e=p4tDBt)\n",
    "- [nonlocal](https://zjuteducn-my.sharepoint.com/:u:/g/personal/201906010313_zjut_edu_cn/Ec-B_Hr00QRAs49Vd7Qg4PkBslya1SjAola4hg64tpI6Vg?e=YNm0Ig)\n",
    "- [Fairmot](https://zjuteducn-my.sharepoint.com/:u:/g/personal/201906010313_zjut_edu_cn/EdU2TA3NrqVFpj-Adkh2RiEB_UZoxLHiNFj6tcuMDylQVA?e=YIWTiH)\n",
    "- [r2plus1d18](https://zjuteducn-my.sharepoint.com/:u:/g/personal/201906010313_zjut_edu_cn/EXT6cCmxV59Gp4U9VChcmuUB2Fmuhfg7SRkfuxGsOiyBUA?e=qJ9Wc1)\n",
    "- [Swin3D](https://zjuteducn-my.sharepoint.com/:u:/g/personal/201906010313_zjut_edu_cn/EX1foDC63eNNgnxbfD2oEDYB9C5JoLUfEgqlJ_4QymoJqQ?e=ayseUu)\n",
    "\n",
    "\n",
    "## Run on GPU\n",
    "\n",
    "Please run the following command in root directory of every sub category.\n",
    "\n",
    "### run with example files"
   ]
  },
  {
   "cell_type": "code",
   "execution_count": null,
   "id": "e70d7759",
   "metadata": {
    "pycharm": {
     "name": "#%%\n"
    }
   },
   "outputs": [],
   "source": [
    "# run training example\n",
    "!python [TRAIN_FILE] --data_url [DATASET_PATH] --epoch_size [NUM_OF_EPOCH] --batch_size [BATCH_SIZE]\n",
    "\n",
    "# run evaluation example\n",
    "!python [EVAL_FILE] --data_url [DATASET_PATH] --pretrained_path [CKPT_PATH] --batch_size [BATCH_SIZE]"
   ]
  },
  {
   "attachments": {},
   "cell_type": "markdown",
   "id": "019226a7",
   "metadata": {
    "pycharm": {
     "name": "#%% md\n"
    }
   },
   "source": [
    "for example when training and evaluating the C3D model"
   ]
  },
  {
   "cell_type": "code",
   "execution_count": null,
   "metadata": {
    "collapsed": false,
    "pycharm": {
     "name": "#%%\n"
    }
   },
   "outputs": [],
   "source": [
    "!cd tutorials/classification/c3d\n",
    "# run training example\n",
    "!python c3d_ucf101_train.py --data_url /usr/dataset/ucf101 --epoch_size 150 --batch_size 8\n",
    "\n",
    "# run evaluation example\n",
    "!python c3d_ucf101_eval.py --data_url /usr/dataset/ucf101 --pretrained_path ./c3d_pretrained.ckpt --batch_size 16"
   ]
  },
  {
   "attachments": {},
   "cell_type": "markdown",
   "metadata": {
    "collapsed": false,
    "pycharm": {
     "name": "#%% md\n"
    }
   },
   "source": [
    "### run with config file"
   ]
  },
  {
   "cell_type": "code",
   "execution_count": null,
   "metadata": {
    "collapsed": false,
    "pycharm": {
     "name": "#%%\n"
    }
   },
   "outputs": [],
   "source": [
    "# taking classification as an example, segmentation corresponding `tools\\segmentation` and tracking corresponding `tools\\tracking`\n",
    "!cd tools/classification\n",
    "# run training example\n",
    "!python train.py -c [CONFIG_PATH]\n",
    "# run evaluation example\n",
    "!python eval.py -c [CONFIG_PATH]"
   ]
  },
  {
   "attachments": {},
   "cell_type": "markdown",
   "metadata": {
    "collapsed": false,
    "pycharm": {
     "name": "#%% md\n"
    }
   },
   "source": [
    "for example when training and evaluating the C3D model"
   ]
  },
  {
   "cell_type": "code",
   "execution_count": null,
   "metadata": {
    "collapsed": false,
    "pycharm": {
     "name": "#%%\n"
    }
   },
   "outputs": [],
   "source": [
    "# run training example\n",
    "!python train.py ../../mindvideo/config/c3d/c3d.yaml\n",
    "# run evaluation example\n",
    "!python eval.py ../../mindvideo/config/c3d/c3d.yaml"
   ]
  }
 ],
 "metadata": {
  "kernelspec": {
   "display_name": "Python 3 (ipykernel)",
   "language": "python",
   "name": "python3"
  },
  "language_info": {
   "codemirror_mode": {
    "name": "ipython",
    "version": 3
   },
   "file_extension": ".py",
   "mimetype": "text/x-python",
   "name": "python",
   "nbconvert_exporter": "python",
   "pygments_lexer": "ipython3",
   "version": "3.8.0"
  }
 },
 "nbformat": 4,
 "nbformat_minor": 5
}
